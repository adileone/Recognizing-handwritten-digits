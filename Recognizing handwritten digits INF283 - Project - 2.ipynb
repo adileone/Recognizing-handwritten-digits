{
 "cells": [
  {
   "cell_type": "code",
   "execution_count": 1,
   "metadata": {},
   "outputs": [
    {
     "name": "stderr",
     "output_type": "stream",
     "text": [
      "Using TensorFlow backend.\n"
     ]
    },
    {
     "name": "stdout",
     "output_type": "stream",
     "text": [
      "Number of images in X_train (49000, 784)\n",
      "Number of images in X_test (21000, 784)\n"
     ]
    }
   ],
   "source": [
    "import numpy as np\n",
    "import matplotlib\n",
    "import matplotlib.pyplot as plt\n",
    "\n",
    "from keras.models import Sequential, load_model\n",
    "from keras.layers.core import Dense, Dropout, Activation\n",
    "from keras.utils import np_utils\n",
    "from keras.wrappers.scikit_learn import KerasClassifier\n",
    "\n",
    "from sklearn.model_selection import train_test_split\n",
    "from sklearn.model_selection import StratifiedKFold, cross_val_score\n",
    "from sklearn.model_selection import GridSearchCV\n",
    "\n",
    "#DATA-PREPARATION STEP\n",
    "\n",
    "# Considering only a quarter of the input in order to speed up the computation \n",
    "# and try to tune hyperparameters using 3-fold CrossValidation\n",
    "\n",
    "images = np.loadtxt(\"handwritten_digits_images.csv\", delimiter=',')\n",
    "labels = np.loadtxt(\"handwritten_digits_labels.csv\", delimiter=',')\n",
    "\n",
    "X_train, X_test, y_train, y_test = train_test_split(images, labels,test_size=0.3, random_state=32)\n",
    "\n",
    "# Making sure that the values are float so that we can get decimal points after division\n",
    "X_train = X_train.astype('float32')\n",
    "X_test = X_test.astype('float32')\n",
    "\n",
    "# Normalizing the RGB codes by dividing it to the max RGB value.\n",
    "X_train /= 255\n",
    "X_test /= 255\n",
    "\n",
    "#Without normalization we will get an accuracy about 40%, whit it about 97%\n"
   ]
  },
  {
   "cell_type": "code",
   "execution_count": 2,
   "metadata": {},
   "outputs": [
    {
     "name": "stdout",
     "output_type": "stream",
     "text": [
      "Best parameters set found on development set:\n",
      "\n",
      "{'batch_size': 50, 'nb_epoch': 15}\n"
     ]
    }
   ],
   "source": [
    "#When you wrap your neural network in a Keras Classifier/Regressor, Keras can takes a multiclass [0,1,2,1] \n",
    "#and transform it into categorical representation [[0,0,0],[0,1,0],[0,0,1],[0,1,0]] just for the NN model fit. \n",
    "#So the hot encoding is not needed.\n",
    "\n",
    "def make_model():\n",
    "    \n",
    "    model = Sequential()\n",
    "    model.add(Dense(512, input_shape=(784,)))\n",
    "    model.add(Activation('relu'))                            \n",
    "    model.add(Dropout(0.2))\n",
    "    model.add(Dense(10))\n",
    "    model.add(Activation('softmax'))\n",
    "    model.compile(loss='categorical_crossentropy', metrics=['accuracy'], optimizer='adam')    \n",
    "    \n",
    "    return model\n",
    "\n",
    "\n",
    "def tuning(X_train,Y_train,X_test,Y_test):\n",
    "\n",
    "    batch_size = [50, 80, 100, 128, 135, 150]\n",
    "    epochs = [15,20,25]\n",
    "    param_grid = dict(batch_size=batch_size, nb_epoch=epochs)\n",
    "\n",
    "    k_model = KerasClassifier(build_fn=make_model, verbose=0)\n",
    "   \n",
    "    clf = GridSearchCV(estimator=k_model, param_grid=param_grid, \n",
    "                                   cv=3,\n",
    "                                   scoring=\"accuracy\", verbose=0 ,n_jobs=-1)\n",
    "    clf.fit(X_train,Y_train)\n",
    "    \n",
    "    print(\"Best parameters set found on development set:\")\n",
    "    print()\n",
    "    print(clf.best_params_)\n",
    "    \n",
    "    model=make_model()\n",
    "    \n",
    "    return clf,model\n",
    "    \n",
    "clf = tuning(X_train,y_train,X_test,y_test)"
   ]
  },
  {
   "cell_type": "code",
   "execution_count": 3,
   "metadata": {},
   "outputs": [
    {
     "name": "stdout",
     "output_type": "stream",
     "text": [
      "Train on 49000 samples, validate on 21000 samples\n",
      "Epoch 1/15\n",
      " - 4s - loss: 0.2527 - acc: 0.9254 - val_loss: 0.1411 - val_acc: 0.9584\n",
      "Epoch 2/15\n",
      " - 4s - loss: 0.1125 - acc: 0.9663 - val_loss: 0.1080 - val_acc: 0.9665\n",
      "Epoch 3/15\n",
      " - 4s - loss: 0.0770 - acc: 0.9762 - val_loss: 0.0952 - val_acc: 0.9713\n",
      "Epoch 4/15\n",
      " - 4s - loss: 0.0597 - acc: 0.9809 - val_loss: 0.0828 - val_acc: 0.9743\n",
      "Epoch 5/15\n",
      " - 4s - loss: 0.0475 - acc: 0.9848 - val_loss: 0.0825 - val_acc: 0.9757\n",
      "Epoch 6/15\n",
      " - 4s - loss: 0.0372 - acc: 0.9882 - val_loss: 0.0724 - val_acc: 0.9780\n",
      "Epoch 7/15\n",
      " - 4s - loss: 0.0302 - acc: 0.9902 - val_loss: 0.0743 - val_acc: 0.9780\n",
      "Epoch 8/15\n",
      " - 4s - loss: 0.0252 - acc: 0.9919 - val_loss: 0.0764 - val_acc: 0.9770\n",
      "Epoch 9/15\n",
      " - 4s - loss: 0.0232 - acc: 0.9923 - val_loss: 0.0822 - val_acc: 0.9779\n",
      "Epoch 10/15\n",
      " - 4s - loss: 0.0214 - acc: 0.9927 - val_loss: 0.0718 - val_acc: 0.9809\n",
      "Epoch 11/15\n",
      " - 4s - loss: 0.0188 - acc: 0.9938 - val_loss: 0.0760 - val_acc: 0.9791\n",
      "Epoch 12/15\n",
      " - 4s - loss: 0.0157 - acc: 0.9944 - val_loss: 0.0768 - val_acc: 0.9800\n",
      "Epoch 13/15\n",
      " - 4s - loss: 0.0145 - acc: 0.9952 - val_loss: 0.0758 - val_acc: 0.9819\n",
      "Epoch 14/15\n",
      " - 4s - loss: 0.0140 - acc: 0.9953 - val_loss: 0.0802 - val_acc: 0.9806\n",
      "Epoch 15/15\n",
      " - 4s - loss: 0.0142 - acc: 0.9950 - val_loss: 0.0801 - val_acc: 0.9813\n"
     ]
    }
   ],
   "source": [
    "model = clf[1]\n",
    "\n",
    "#Now we are not wrapping our nn into KerasClassifier so we need hot encoding\n",
    "y_train_enc = np_utils.to_categorical(y_train, 10)\n",
    "y_test_enc = np_utils.to_categorical(y_test, 10)\n",
    "\n",
    "history = model.fit(X_train,y_train_enc, batch_size=50, epochs=15 ,verbose=2,validation_data=(X_test, y_test_enc))"
   ]
  },
  {
   "cell_type": "code",
   "execution_count": 4,
   "metadata": {},
   "outputs": [
    {
     "data": {
      "image/png": "[encoded data removed]",
      "text/plain": [
       "<Figure size 432x288 with 2 Axes>"
      ]
     },
     "metadata": {},
     "output_type": "display_data"
    },
    {
     "name": "stdout",
     "output_type": "stream",
     "text": [
      "\n",
      "Test Loss 0.08005265406304915\n",
      "Test Accuracy 0.9812857142857143\n"
     ]
    }
   ],
   "source": [
    "# plotting the metrics\n",
    "fig = plt.figure()\n",
    "plt.subplot(2,1,1)\n",
    "plt.plot(history.history['acc'])\n",
    "plt.plot(history.history['val_acc'])\n",
    "plt.title('model accuracy')\n",
    "plt.ylabel('accuracy')\n",
    "plt.xlabel('epoch')\n",
    "plt.legend(['train', 'test'], loc='lower right')\n",
    "\n",
    "plt.subplot(2,1,2)\n",
    "plt.plot(history.history['loss'])\n",
    "plt.plot(history.history['val_loss'])\n",
    "plt.title('model loss')\n",
    "plt.ylabel('loss')\n",
    "plt.xlabel('epoch')\n",
    "plt.legend(['train', 'test'], loc='upper right')\n",
    "\n",
    "plt.tight_layout()\n",
    "\n",
    "plt.show()\n",
    "\n",
    "#Evaluating the model\n",
    "\n",
    "loss, accuracy = model.evaluate(X_test, y_test_enc, verbose=2)\n",
    "\n",
    "print()\n",
    "print(\"Test Loss\", loss)\n",
    "print(\"Test Accuracy\", accuracy)"
   ]
  },
  {
   "cell_type": "code",
   "execution_count": 5,
   "metadata": {},
   "outputs": [
    {
     "name": "stdout",
     "output_type": "stream",
     "text": [
      "\n",
      "20607  classified correctly\n",
      "393  classified incorrectly\n",
      "\n",
      "Error rate :  1.87 %\n"
     ]
    }
   ],
   "source": [
    "predicted_classes = model.predict_classes(X_test)\n",
    "\n",
    "# see which we predicted correctly and which not ----- Indices of elements that are non-zero.\n",
    "\n",
    "correct_indices = np.nonzero(predicted_classes == y_test)[0]\n",
    "incorrect_indices = np.nonzero(predicted_classes != y_test)[0]\n",
    "\n",
    "print()\n",
    "print(len(correct_indices),\" classified correctly\")\n",
    "print(len(incorrect_indices),\" classified incorrectly\")\n",
    "\n",
    "error_rate = len(incorrect_indices)/(len(correct_indices)+len(incorrect_indices))\n",
    "\n",
    "print()\n",
    "print(\"Error rate : \", round(error_rate*100, 2), \"%\")"
   ]
  }
 ],
 "metadata": {
  "kernelspec": {
   "display_name": "Python 3",
   "language": "python",
   "name": "python3"
  },
  "language_info": {
   "codemirror_mode": {
    "name": "ipython",
    "version": 3
   },
   "file_extension": ".py",
   "mimetype": "text/x-python",
   "name": "python",
   "nbconvert_exporter": "python",
   "pygments_lexer": "ipython3",
   "version": "3.6.5"
  }
 },
 "nbformat": 4,
 "nbformat_minor": 2
}
